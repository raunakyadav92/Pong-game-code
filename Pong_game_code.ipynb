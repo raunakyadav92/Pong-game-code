{
  "nbformat": 4,
  "nbformat_minor": 0,
  "metadata": {
    "colab": {
      "provenance": [],
      "authorship_tag": "ABX9TyPIEfSHy5SljnGtr9R2xi1A",
      "include_colab_link": true
    },
    "kernelspec": {
      "name": "python3",
      "display_name": "Python 3"
    },
    "language_info": {
      "name": "python"
    }
  },
  "cells": [
    {
      "cell_type": "markdown",
      "metadata": {
        "id": "view-in-github",
        "colab_type": "text"
      },
      "source": [
        "<a href=\"https://colab.research.google.com/github/raunakyadav92/Pong-game-code/blob/main/Pong_game_code.ipynb\" target=\"_parent\"><img src=\"https://colab.research.google.com/assets/colab-badge.svg\" alt=\"Open In Colab\"/></a>"
      ]
    },
    {
      "cell_type": "code",
      "source": [
        "pip install pygame\n"
      ],
      "metadata": {
        "colab": {
          "base_uri": "https://localhost:8080/"
        },
        "id": "mW5o0Ve1-VAY",
        "outputId": "75a8c636-e7a1-47e4-d823-8a850b7660f0"
      },
      "execution_count": 7,
      "outputs": [
        {
          "output_type": "stream",
          "name": "stdout",
          "text": [
            "Requirement already satisfied: pygame in /usr/local/lib/python3.11/dist-packages (2.6.1)\n"
          ]
        }
      ]
    },
    {
      "cell_type": "code",
      "source": [
        "import pygame\n",
        "import sys\n",
        "\n",
        "pygame.init()\n",
        "\n",
        "# Window settings\n",
        "WIDTH, HEIGHT = 800, 600\n",
        "WIN = pygame.display.set_mode((WIDTH, HEIGHT))\n",
        "pygame.display.set_caption(\"Pong Game\")\n",
        "\n",
        "# Colors\n",
        "WHITE = (255, 255, 255)\n",
        "BLACK = (0, 0, 0)\n",
        "\n",
        "# Game Objects\n",
        "BALL = pygame.Rect(WIDTH//2 - 15, HEIGHT//2 - 15, 30, 30)\n",
        "PLAYER = pygame.Rect(WIDTH - 20, HEIGHT//2 - 70, 10, 140)\n",
        "OPPONENT = pygame.Rect(10, HEIGHT//2 - 70, 10, 140)\n",
        "\n",
        "ball_speed_x = 7\n",
        "ball_speed_y = 7\n",
        "player_speed = 0\n",
        "opponent_speed = 7\n",
        "\n",
        "font = pygame.font.SysFont(\"Arial\", 30)\n",
        "player_score = 0\n",
        "opponent_score = 0\n",
        "\n",
        "def ball_animation():\n",
        "    global ball_speed_x, ball_speed_y, player_score, opponent_score\n",
        "\n",
        "    BALL.x += ball_speed_x\n",
        "    BALL.y += ball_speed_y\n",
        "\n",
        "    if BALL.top <= 0 or BALL.bottom >= HEIGHT:\n",
        "        ball_speed_y *= -1\n",
        "\n",
        "    if BALL.colliderect(PLAYER) or BALL.colliderect(OPPONENT):\n",
        "        ball_speed_x *= -1\n",
        "\n",
        "    if BALL.left <= 0:\n",
        "        player_score += 1\n",
        "        reset_ball()\n",
        "    if BALL.right >= WIDTH:\n",
        "        opponent_score += 1\n",
        "        reset_ball()\n",
        "\n",
        "def reset_ball():\n",
        "    global ball_speed_x, ball_speed_y\n",
        "    BALL.center = (WIDTH//2, HEIGHT//2)\n",
        "    ball_speed_x *= -1\n",
        "    ball_speed_y *= -1\n",
        "\n",
        "def player_movement():\n",
        "    PLAYER.y += player_speed\n",
        "    if PLAYER.top <= 0:\n",
        "        PLAYER.top = 0\n",
        "    if PLAYER.bottom >= HEIGHT:\n",
        "        PLAYER.bottom = HEIGHT\n",
        "\n",
        "def opponent_ai():\n",
        "    if OPPONENT.top < BALL.y:\n",
        "        OPPONENT.y += opponent_speed\n",
        "    if OPPONENT.bottom > BALL.y:\n",
        "        OPPONENT.y -= opponent_speed\n",
        "\n",
        "def draw():\n",
        "    WIN.fill(BLACK)\n",
        "    pygame.draw.rect(WIN, WHITE, PLAYER)\n",
        "    pygame.draw.rect(WIN, WHITE, OPPONENT)\n",
        "    pygame.draw.ellipse(WIN, WHITE, BALL)\n",
        "    pygame.draw.aaline(WIN, WHITE, (WIDTH//2, 0), (WIDTH//2, HEIGHT))\n",
        "\n",
        "    player_text = font.render(f\"{player_score}\", True, WHITE)\n",
        "    opponent_text = font.render(f\"{opponent_score}\", True, WHITE)\n",
        "    WIN.blit(player_text, (WIDTH//2 + 20, 20))\n",
        "    WIN.blit(opponent_text, (WIDTH//2 - 40, 20))\n",
        "\n",
        "    pygame.display.update()\n",
        "\n",
        "clock = pygame.time.Clock()\n",
        "\n",
        "# Game Loop\n",
        "while True:\n",
        "    for event in pygame.event.get():\n",
        "        if event.type == pygame.QUIT:\n",
        "            pygame.quit()\n",
        "            sys.exit()\n",
        "\n",
        "        if event.type == pygame.KEYDOWN:\n",
        "            if event.key == pygame.K_UP:\n",
        "                player_speed = -7\n",
        "            if event.key == pygame.K_DOWN:\n",
        "                player_speed = 7\n",
        "        if event.type == pygame.KEYUP:\n",
        "            if event.key == pygame.K_UP or event.key == pygame.K_DOWN:\n",
        "                player_speed = 0\n",
        "\n",
        "    ball_animation()\n",
        "    player_movement()\n",
        "    opponent_ai()\n",
        "    draw()\n",
        "    clock.tick(60)\n",
        "\n"
      ],
      "metadata": {
        "colab": {
          "base_uri": "https://localhost:8080/"
        },
        "id": "JLPM9Eqk-Vv-",
        "outputId": "26a31018-e51b-4010-fc92-6bc4e2198adc"
      },
      "execution_count": null,
      "outputs": [
        {
          "output_type": "stream",
          "name": "stdout",
          "text": [
            "pygame 2.6.1 (SDL 2.28.4, Python 3.11.13)\n",
            "Hello from the pygame community. https://www.pygame.org/contribute.html\n"
          ]
        }
      ]
    },
    {
      "cell_type": "code",
      "source": [],
      "metadata": {
        "id": "jISLjn3u-ZjC"
      },
      "execution_count": null,
      "outputs": []
    }
  ]
}